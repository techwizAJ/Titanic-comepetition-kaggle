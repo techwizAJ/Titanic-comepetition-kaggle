{
  "cells": [
    {
      "metadata": {
        "_uuid": "8f2839f25d086af736a60e9eeb907d3b93b6e0e5",
        "_cell_guid": "b1076dfc-b9ad-4769-8c92-a6c4dae69d19",
        "trusted": true,
        "_kg_hide-input": false,
        "_kg_hide-output": true,
        "collapsed": true
      },
      "cell_type": "code",
      "source": "# This Python 3 environment comes with many helpful analytics libraries installed\n# It is defined by the kaggle/python docker image: https://github.com/kaggle/docker-python\n# For example, here's several helpful packages to load in \n\nimport numpy as np # linear algebra\nimport pandas as pd # data processing, CSV file I/O (e.g. pd.read_csv)\n\n# Input data files are available in the \"../input/\" directory.\n# For example, running this (by clicking run or pressing Shift+Enter) will list the files in the input directory\n\nimport os\nprint(os.listdir(\"../input\"))\n\n# Any results you write to the current directory are saved as output.",
      "execution_count": null,
      "outputs": []
    },
    {
      "metadata": {
        "_cell_guid": "79c7e3d0-c299-4dcb-8224-4455121ee9b0",
        "_uuid": "d629ff2d2480ee46fbb7e2d37f6b5fab8052498a",
        "trusted": true,
        "collapsed": true
      },
      "cell_type": "code",
      "source": "train_set = pd.read_csv(\"../input/train.csv\")\ntest_set = pd.read_csv(\"../input/test.csv\")\ntrain_set.head()",
      "execution_count": null,
      "outputs": []
    },
    {
      "metadata": {
        "trusted": true,
        "_uuid": "7a564e83201eaa41bab8f14a049c88b9e8d6efba",
        "collapsed": true
      },
      "cell_type": "code",
      "source": "\"\"\" Exploratory Data Analysis \"\"\"\nprint(train_set['Sex'].value_counts())\nprint(train_set['Embarked'].value_counts())\nprint(train_set.isnull().values.any())\nprint(train_set.isnull().sum().sum())\nprint(train_set.describe())",
      "execution_count": null,
      "outputs": []
    },
    {
      "metadata": {
        "trusted": true,
        "_uuid": "7aaef470372ef4031f26339082ecf651249358b7",
        "collapsed": true
      },
      "cell_type": "code",
      "source": "# Selecting required features from training dataset\ntrain_set.drop(['PassengerId','Name','Cabin','Ticket'],axis=1 ,inplace=True)\ntest_set.drop(['PassengerId','Name','Cabin','Ticket'],axis=1, inplace=True)\nprint(train_set.head())\nprint(test_set.head())",
      "execution_count": null,
      "outputs": []
    },
    {
      "metadata": {
        "trusted": true,
        "_uuid": "c88de8246a63ce5817e134cd287c994456f604ea",
        "collapsed": true
      },
      "cell_type": "code",
      "source": "#Encoding Categorial Data\ntrain_set = pd.get_dummies(data= train_set , dummy_na = True,columns =['Sex' , 'Embarked'])\ntest_set = pd.get_dummies(data= test_set , dummy_na = True,columns =['Sex' , 'Embarked'])\ntrain_set.drop('Sex_nan',axis=1,inplace=True)\ntest_set.drop('Sex_nan',axis=1,inplace=True)\nprint(train_set.head())\nprint(test_set.head())",
      "execution_count": null,
      "outputs": []
    },
    {
      "metadata": {
        "trusted": true,
        "_uuid": "ecdc89814e85896132e3cf2e7b3f39dcce0dd2dc",
        "collapsed": true
      },
      "cell_type": "code",
      "source": "# impute missing values by mean on train and test set\ntrain_set.fillna(train_set.mean(),inplace=True)\ntrain_set.isnull().values.any()\ntest_set.fillna(train_set.mean(),inplace=True)\n#Checking for nan values\ntest_set.isnull().values.any()",
      "execution_count": null,
      "outputs": []
    },
    {
      "metadata": {
        "trusted": true,
        "collapsed": true,
        "_uuid": "40571675cec608e45e3e71f79c1a182f7c60a5dc"
      },
      "cell_type": "code",
      "source": "# Selecting Features and target\nX = train_set.iloc[:,1:13].values\ny = train_set.iloc[:,0].values\nX_test = test_set.iloc[:,:].values",
      "execution_count": null,
      "outputs": []
    },
    {
      "metadata": {
        "trusted": true,
        "collapsed": true,
        "_uuid": "656e683d6270a08867d2eebda7b334dba8f4827c"
      },
      "cell_type": "code",
      "source": "\"\"\"Validating Model for Parameter tuning \"\"\"\nfrom sklearn.model_selection import train_test_split\nX_train , X_validate , y_train , y_validate = train_test_split(X,y,test_size=0.18,random_state=42)\n",
      "execution_count": null,
      "outputs": []
    },
    {
      "metadata": {
        "trusted": true,
        "collapsed": true,
        "_uuid": "360cd26f48d6e4e2b4a3fe2cc21f2a06dab678fb"
      },
      "cell_type": "code",
      "source": "#Feature Scaling \nfrom sklearn.preprocessing import StandardScaler\nsc_X = StandardScaler()\nX_train = sc_X.fit_transform(X_train)\nX_validate = sc_X.transform(X_validate)",
      "execution_count": null,
      "outputs": []
    },
    {
      "metadata": {
        "trusted": true,
        "collapsed": true,
        "_uuid": "fe7c3152e1f08b68e9a5a2a4c6bdb8336247c573"
      },
      "cell_type": "code",
      "source": "#Now Appling Various ML Models For Classification \nfrom sklearn.ensemble import RandomForestClassifier\nclf = RandomForestClassifier(n_estimators=1000,min_samples_split=30,min_samples_leaf=4,random_state=42,warm_start=True)\nclf.fit(X_train,y_train)\ny_pred = clf.predict(X_validate)",
      "execution_count": null,
      "outputs": []
    },
    {
      "metadata": {
        "trusted": true,
        "_uuid": "d227752289febca2de273e791c07070bfbd73bca",
        "collapsed": true
      },
      "cell_type": "code",
      "source": "#metrics\nfrom sklearn.metrics import confusion_matrix\ncnf = confusion_matrix(y_validate,y_pred)\nprint(cnf)\n#Out of 161 validation set 130(84+46) predictions are right\nacu = (130/161)*100\nprint(acu)",
      "execution_count": null,
      "outputs": []
    },
    {
      "metadata": {
        "trusted": true,
        "_uuid": "86c7fddc63bf1e8b06474c8c75a93706f70d578c",
        "collapsed": true
      },
      "cell_type": "code",
      "source": "#Now applying Model Total dataset and testing on test data\nfrom sklearn.preprocessing import StandardScaler\nsc_X = StandardScaler()\nX = sc_X.fit_transform(X)\nX_test = sc_X.transform(X_test)\n\nfrom sklearn.ensemble import RandomForestClassifier\nclf = RandomForestClassifier(n_estimators=1000,min_samples_split=30,min_samples_leaf=4,random_state=42,warm_start=True)\nclf.fit(X,y)",
      "execution_count": null,
      "outputs": []
    },
    {
      "metadata": {
        "trusted": true,
        "collapsed": true,
        "_uuid": "88babdca2db95b71a33d5ea8ffd21bb08a402127"
      },
      "cell_type": "code",
      "source": "#Predicting the survial on test set\ny_predict = clf.predict(X_test)",
      "execution_count": null,
      "outputs": []
    }
  ],
  "metadata": {
    "kernelspec": {
      "display_name": "Python 3",
      "language": "python",
      "name": "python3"
    },
    "language_info": {
      "name": "python",
      "version": "3.6.5",
      "mimetype": "text/x-python",
      "codemirror_mode": {
        "name": "ipython",
        "version": 3
      },
      "pygments_lexer": "ipython3",
      "nbconvert_exporter": "python",
      "file_extension": ".py"
    }
  },
  "nbformat": 4,
  "nbformat_minor": 1
}